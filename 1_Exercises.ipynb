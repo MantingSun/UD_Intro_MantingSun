{
 "cells": [
  {
   "cell_type": "markdown",
   "id": "38e188a5",
   "metadata": {},
   "source": [
    "# Exercise 00\n",
    "Write a piece of code that allocates a list of 20 integers and initializes each element by its index multiplied by 5. Print the result."
   ]
  },
  {
   "cell_type": "code",
   "execution_count": 1,
   "id": "01aa4f35",
   "metadata": {},
   "outputs": [
    {
     "name": "stdout",
     "output_type": "stream",
     "text": [
      "[0, 5, 10, 15, 20, 25, 30, 35, 40, 45, 50, 55, 60, 65, 70, 75, 80, 85, 90, 95]\n"
     ]
    }
   ],
   "source": [
    "numbers=[index * 5 for index in range(20)]\n",
    "print(numbers)"
   ]
  },
  {
   "cell_type": "markdown",
   "id": "529d91ae",
   "metadata": {},
   "source": [
    "# Exercise 01\n",
    "Define a function that takes an integer as input, prints  all integers that it is divisable by, and returns the largest one."
   ]
  },
  {
   "cell_type": "code",
   "execution_count": 1,
   "id": "30e79132",
   "metadata": {},
   "outputs": [],
   "source": [
    "def disvible_number(n):\n",
    "    largest=0\n",
    "    \n",
    "    for i in range(1,n+1):\n",
    "        if n%i==0:\n",
    "            print(i)\n",
    "            largset=i\n",
    "    return largest"
   ]
  },
  {
   "cell_type": "markdown",
   "id": "f5e2d03b",
   "metadata": {},
   "source": [
    "# Exercise 02\n",
    "- create a dictionary with 6 keys and values of your choice\n",
    "- write a function that takes a dictionary and a value as input and returns whether the value occurs as a key in the dictionary\n",
    "- write a function that takes a dictionary as input, and returns the dictionary but the keys are swapped with their values (resolve the issue if a value occurs twice!)"
   ]
  },
  {
   "cell_type": "code",
   "execution_count": 3,
   "id": "2123f1c6",
   "metadata": {},
   "outputs": [
    {
     "name": "stdout",
     "output_type": "stream",
     "text": [
      "The value 'hello' occurs as a key: True\n",
      "Swapped Dictionary: {3: ['hello'], 5: ['world'], 2: ['98'], 8: ['apple'], 4: ['haha'], 6: ['666']}\n"
     ]
    }
   ],
   "source": [
    "my_dictionary = {\n",
    "  \"hello\": 3,\n",
    "  \"world\": 5,\n",
    "  \"98\": 2,\n",
    "  \"apple\": 8,\n",
    "  \"haha\": 4,\n",
    "  \"666\": 6\n",
    "}\n",
    "\n",
    "def check_value(dictionary, value):\n",
    "    return value in dictionary.keys()\n",
    "\n",
    "# Example usage\n",
    "value_to_check = \"hello\"\n",
    "result = check_value(my_dictionary, value_to_check)\n",
    "print(f\"The value '{value_to_check}' occurs as a key: {result}\")\n",
    "\n",
    "def swap_keys_values(dictionary):\n",
    "    swapped_dict = {}\n",
    "    for key, value in dictionary.items():\n",
    "        if value in swapped_dict:\n",
    "            swapped_dict[value].append(key)\n",
    "        else:\n",
    "            swapped_dict[value] = [key]\n",
    "    return swapped_dict\n",
    "\n",
    "# Example usage\n",
    "swapped_dictionary = swap_keys_values(my_dictionary)\n",
    "print(\"Swapped Dictionary:\", swapped_dictionary)"
   ]
  },
  {
   "cell_type": "markdown",
   "id": "b4b4e426",
   "metadata": {},
   "source": [
    "# Exercise 03\n",
    "Define a function that creates a dictionary of the first n fibonacci numbers as values paired with their indices as keys. "
   ]
  },
  {
   "cell_type": "code",
   "execution_count": 4,
   "id": "7845b5a4",
   "metadata": {},
   "outputs": [
    {
     "name": "stdout",
     "output_type": "stream",
     "text": [
      "{0: 0, 1: 1, 2: 1, 3: 2, 4: 3, 5: 5, 6: 8, 7: 13, 8: 21, 9: 34}\n"
     ]
    }
   ],
   "source": [
    "def fibonacci_dict(n):\n",
    "    fib_dict = {}\n",
    "    \n",
    "    if n >= 1:\n",
    "        fib_dict[0] = 0\n",
    "    if n >= 2:\n",
    "        fib_dict[1] = 1\n",
    "    \n",
    "    a, b = 0, 1\n",
    "    for i in range(2, n):\n",
    "        fib_dict[i] = a + b\n",
    "        a, b = b, a + b\n",
    "    \n",
    "    return fib_dict\n",
    "\n",
    "fibonacci_numbers = fibonacci_dict(10)\n",
    "print(fibonacci_numbers)"
   ]
  },
  {
   "cell_type": "code",
   "execution_count": null,
   "id": "578fa59a",
   "metadata": {},
   "outputs": [],
   "source": []
  }
 ],
 "metadata": {
  "kernelspec": {
   "display_name": "Python 3 (ipykernel)",
   "language": "python",
   "name": "python3"
  },
  "language_info": {
   "codemirror_mode": {
    "name": "ipython",
    "version": 3
   },
   "file_extension": ".py",
   "mimetype": "text/x-python",
   "name": "python",
   "nbconvert_exporter": "python",
   "pygments_lexer": "ipython3",
   "version": "3.8.18"
  }
 },
 "nbformat": 4,
 "nbformat_minor": 5
}
